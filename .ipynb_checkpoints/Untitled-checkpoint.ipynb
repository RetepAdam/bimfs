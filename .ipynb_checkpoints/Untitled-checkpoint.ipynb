{
 "cells": [
  {
   "cell_type": "code",
   "execution_count": 1075,
   "metadata": {},
   "outputs": [
    {
     "name": "stdout",
     "output_type": "stream",
     "text": [
      "FG%\n",
      "RF: 0.331002324825\n",
      "Linear: 0.301271730086\n",
      "OLS R2: 0.461564878761\n",
      "\n",
      "2P%\n",
      "RF: 0.234490087463\n",
      "Linear: -0.0524030590275\n",
      "OLS R2: 0.215660655293\n",
      "\n",
      "3P%\n",
      "RF: 0.251868276008\n",
      "Linear: 0.362539029147\n",
      "OLS R2: 0.349651060921\n",
      "\n",
      "FT%\n",
      "RF: 0.173869541818\n",
      "Linear: -0.112468247057\n",
      "OLS R2: 0.237034943436\n",
      "\n",
      "eFG%\n",
      "RF: 0.143307500877\n",
      "Linear: 0.102052178243\n",
      "OLS R2: 0.279358289102\n",
      "\n",
      "FG/36\n",
      "RF: 0.310713995463\n",
      "Linear: 0.315636494847\n",
      "OLS R2: 0.27582529054\n",
      "\n",
      "FGA/36\n",
      "RF: 0.250261704821\n",
      "Linear: 0.360153907338\n",
      "OLS R2: 0.310364146509\n",
      "\n",
      "2P/36\n",
      "RF: 0.404702242014\n",
      "Linear: 0.372488251806\n",
      "OLS R2: 0.42326713376\n",
      "\n",
      "2PA/36\n",
      "RF: 0.32848209916\n",
      "Linear: 0.260658676098\n",
      "OLS R2: 0.375118882183\n",
      "\n",
      "3P/36\n",
      "RF: 0.570499392693\n",
      "Linear: 0.609233095001\n",
      "OLS R2: 0.666265110472\n",
      "\n",
      "3PA/36\n",
      "RF: 0.540593236001\n",
      "Linear: 0.548663117427\n",
      "OLS R2: 0.661021266751\n",
      "\n",
      "FT/36\n",
      "RF: -0.248540786327\n",
      "Linear: -0.292280592641\n",
      "OLS R2: 0.166380256555\n",
      "\n",
      "FTA/36\n",
      "RF: -0.0862557355467\n",
      "Linear: -0.105017906081\n",
      "OLS R2: 0.220135305459\n",
      "\n",
      "ORB/36\n",
      "RF: 0.65324329811\n",
      "Linear: 0.614267470364\n",
      "OLS R2: 0.702508138322\n",
      "\n",
      "DRB/36\n",
      "RF: 0.61195244994\n",
      "Linear: 0.650972682479\n",
      "OLS R2: 0.677409522905\n",
      "\n",
      "TRB/36\n",
      "RF: 0.704125368806\n",
      "Linear: 0.738194909152\n",
      "OLS R2: 0.770250786813\n",
      "\n",
      "AST/36\n",
      "RF: 0.646250455571\n",
      "Linear: 0.627395684621\n",
      "OLS R2: 0.673976267069\n",
      "\n",
      "STL/36\n",
      "RF: 0.276704392605\n",
      "Linear: 0.0677439046654\n",
      "OLS R2: 0.40525647905\n",
      "\n",
      "BLK/36\n",
      "RF: 0.640056993721\n",
      "Linear: 0.603397791923\n",
      "OLS R2: 0.71778489302\n",
      "\n",
      "TOV/36\n",
      "RF: 0.280506018469\n",
      "Linear: 0.047958879389\n",
      "OLS R2: 0.348854640011\n",
      "\n",
      "PF/36\n",
      "RF: 0.344897763958\n",
      "Linear: 0.158769584323\n",
      "OLS R2: 0.383640324989\n",
      "\n",
      "PTS/36\n",
      "RF: 0.220222314281\n",
      "Linear: 0.252679257239\n",
      "OLS R2: 0.214701674064\n",
      "\n",
      "TS%\n",
      "RF: 0.207551275517\n",
      "Linear: 0.041475439805\n",
      "OLS R2: 0.235686527845\n",
      "\n",
      "FTr\n",
      "RF: 0.255148923744\n",
      "Linear: 0.0743561365622\n",
      "OLS R2: 0.36785770657\n",
      "\n",
      "3PAr\n",
      "RF: 0.553298237326\n",
      "Linear: 0.519841808623\n",
      "OLS R2: 0.669128922823\n",
      "\n"
     ]
    }
   ],
   "source": [
    "import pandas as pd\n",
    "import numpy as np\n",
    "from sklearn.model_selection import train_test_split\n",
    "from sklearn.ensemble import RandomForestRegressor\n",
    "import statsmodels.api as sm\n",
    "from sklearn.linear_model import LinearRegression\n",
    "\n",
    "df_nba = pd.read_csv('data/rookies_from_cbb.csv')\n",
    "df_cbb = pd.read_csv('data/cbb_to_rookies.csv')\n",
    "\n",
    "df_cbb['Age'] = df_nba['Age']\n",
    "\n",
    "df_nba = df_nba[df_nba['MP'] >= 100]\n",
    "df_cbb = df_cbb[df_cbb['Player'].isin(df_nba['Player'])]\n",
    "\n",
    "X = np.array(df_cbb[df_cbb.columns[2:]])\n",
    "cols = df_nba.columns[25:]\n",
    "rank_order = []\n",
    "for col in cols:\n",
    "    print(col)\n",
    "    y = np.array(df_nba[col])\n",
    "#\n",
    "    X_train, X_test, y_train, y_test = train_test_split(X, y, random_state=21)\n",
    "#\n",
    "    rf = RandomForestRegressor(random_state=66, max_depth=5)\n",
    "    rf.fit(X_train, y_train)\n",
    "    regr = LinearRegression()\n",
    "    regr.fit(X_train, y_train)\n",
    "    model_X = sm.add_constant(X)\n",
    "    model = sm.OLS(y, model_X)\n",
    "    results = model.fit()\n",
    "    print('RF: {0}'.format(rf.score(X_test, y_test)))\n",
    "    rank_order.append(rf.feature_importances_)\n",
    "    # ranked = df_cbb.columns[np.argsort(rf.feature_importances_)[::-1]]\n",
    "    # vals = np.sort(rf.feature_importances_)[::-1]\n",
    "    # for i in range(len(ranked)):\n",
    "    #     print(\"{0}: {1}\".format(ranked[i], round(vals[i], 2)))\n",
    "\n",
    "\n",
    "    print('Linear: {0}'.format(regr.score(X_test, y_test)))\n",
    "    print('OLS R2: {0}'.format(results.rsquared_adj))\n",
    "    print('')"
   ]
  },
  {
   "cell_type": "code",
   "execution_count": 492,
   "metadata": {},
   "outputs": [
    {
     "data": {
      "text/plain": [
       "(322, 64)"
      ]
     },
     "execution_count": 492,
     "metadata": {},
     "output_type": "execute_result"
    }
   ],
   "source": [
    "df_cbb.shape"
   ]
  },
  {
   "cell_type": "code",
   "execution_count": 3,
   "metadata": {
    "collapsed": true
   },
   "outputs": [],
   "source": [
    "test_df = pd.DataFrame(np.zeros(1612).reshape(62, 26))"
   ]
  },
  {
   "cell_type": "code",
   "execution_count": 4,
   "metadata": {
    "collapsed": true
   },
   "outputs": [],
   "source": [
    "test_df.rename(columns={0:'Labels', 1:'FG%', 2:'2P%', 3:'3P%', 4:'FT%', 5:'eFG%', 6:'FG/36', 7:'FGA/36', 8:'2P/36', 9:'2PA/36', 10:'3P/36', 11:'3PA/36', 12:'FT/36', 13:'FTA/36', 14:'ORB/36', 15:'DRB/36', 16:'TRB/36', 17:'AST/36', 18:'STL/36', 19:'BLK/36', 20:'TOV/36', 21:'PF/36', 22:'PTS/36', 23:'TS%', 24:'FTr', 25:'3PAr'}, inplace=True)"
   ]
  },
  {
   "cell_type": "code",
   "execution_count": 5,
   "metadata": {
    "collapsed": true
   },
   "outputs": [],
   "source": [
    "test_df['Labels'] = df_cbb.columns[2:]"
   ]
  },
  {
   "cell_type": "code",
   "execution_count": 6,
   "metadata": {
    "collapsed": true
   },
   "outputs": [],
   "source": [
    "for i in range(len(rank_order)):\n",
    "    test_df[test_df.columns[i+1]] = rank_order[i]"
   ]
  },
  {
   "cell_type": "code",
   "execution_count": 32,
   "metadata": {},
   "outputs": [
    {
     "data": {
      "text/plain": [
       "0         MP\n",
       "1         FG\n",
       "2        FGA\n",
       "3         2P\n",
       "4        2PA\n",
       "5         3P\n",
       "6        3PA\n",
       "7         FT\n",
       "8        FTA\n",
       "9        ORB\n",
       "10       DRB\n",
       "11       TRB\n",
       "12       AST\n",
       "13       STL\n",
       "14       BLK\n",
       "15       TOV\n",
       "16        PF\n",
       "17       PTS\n",
       "18     PProd\n",
       "19       OWS\n",
       "20       DWS\n",
       "21        WS\n",
       "22       PER\n",
       "23      ORB%\n",
       "24      DRB%\n",
       "25      TRB%\n",
       "26      AST%\n",
       "27      STL%\n",
       "28      BLK%\n",
       "29      TOV%\n",
       "       ...  \n",
       "32      DRtg\n",
       "33      OBPM\n",
       "34      DBPM\n",
       "35       BPM\n",
       "36     FG/40\n",
       "37    FGA/40\n",
       "38     2P/40\n",
       "39    2PA/40\n",
       "40     3P/40\n",
       "41    3PA/40\n",
       "42     FT/40\n",
       "43    FTA/40\n",
       "44    ORB/40\n",
       "45    DRB/40\n",
       "46    TRB/40\n",
       "47    AST/40\n",
       "48    STL/40\n",
       "49    BLK/40\n",
       "50    TOV/40\n",
       "51     PF/40\n",
       "52    PTS/40\n",
       "53       TS%\n",
       "54       FTr\n",
       "55      3PAr\n",
       "56       FG%\n",
       "57       2P%\n",
       "58       3P%\n",
       "59       FT%\n",
       "60      eFG%\n",
       "61       Age\n",
       "Name: Labels, dtype: object"
      ]
     },
     "execution_count": 32,
     "metadata": {},
     "output_type": "execute_result"
    }
   ],
   "source": [
    "test_df['Labels']"
   ]
  },
  {
   "cell_type": "code",
   "execution_count": 15,
   "metadata": {},
   "outputs": [
    {
     "data": {
      "image/png": "[encoded data removed]",
      "text/plain": [
       "<matplotlib.figure.Figure at 0x1191d1c50>"
      ]
     },
     "metadata": {},
     "output_type": "display_data"
    }
   ],
   "source": [
    "import matplotlib.pyplot as plt\n",
    "fig = plt.figure()\n",
    "ax = fig.add_subplot(111)\n",
    "\n",
    "plt.bar(test_df.index, test_df[test_df.columns[1]]) #FG%\n",
    "plt.show()\n",
    "plt.close()"
   ]
  },
  {
   "cell_type": "code",
   "execution_count": 21,
   "metadata": {},
   "outputs": [
    {
     "data": {
      "image/png": "[encoded data removed]",
      "text/plain": [
       "<matplotlib.figure.Figure at 0x11982b610>"
      ]
     },
     "metadata": {},
     "output_type": "display_data"
    }
   ],
   "source": [
    "import matplotlib.pyplot as plt\n",
    "fig = plt.figure()\n",
    "ax = fig.add_subplot(111)\n",
    "\n",
    "plt.bar(test_df.index, test_df[test_df.columns[2]]) #2P%\n",
    "plt.show()\n",
    "plt.close()"
   ]
  },
  {
   "cell_type": "code",
   "execution_count": 22,
   "metadata": {},
   "outputs": [
    {
     "data": {
      "image/png": "[encoded data removed]",
      "text/plain": [
       "<matplotlib.figure.Figure at 0x1199bd890>"
      ]
     },
     "metadata": {},
     "output_type": "display_data"
    }
   ],
   "source": [
    "import matplotlib.pyplot as plt\n",
    "fig = plt.figure()\n",
    "ax = fig.add_subplot(111)\n",
    "\n",
    "plt.bar(test_df.index, test_df[test_df.columns[3]]) #3P%\n",
    "plt.show()\n",
    "plt.close()"
   ]
  },
  {
   "cell_type": "code",
   "execution_count": 25,
   "metadata": {},
   "outputs": [
    {
     "data": {
      "text/plain": [
       "40    0.273422\n",
       "41    0.150142\n",
       "46    0.105057\n",
       "9     0.039902\n",
       "32    0.035289\n",
       "45    0.033411\n",
       "49    0.026453\n",
       "43    0.019330\n",
       "14    0.019324\n",
       "25    0.019262\n",
       "31    0.018918\n",
       "6     0.018912\n",
       "13    0.017519\n",
       "12    0.015566\n",
       "24    0.014876\n",
       "23    0.013665\n",
       "29    0.012360\n",
       "28    0.011395\n",
       "17    0.010959\n",
       "51    0.010582\n",
       "52    0.010127\n",
       "22    0.009680\n",
       "54    0.008848\n",
       "50    0.008577\n",
       "36    0.008546\n",
       "57    0.006603\n",
       "61    0.006471\n",
       "60    0.006178\n",
       "11    0.006141\n",
       "34    0.005373\n",
       "        ...   \n",
       "58    0.004268\n",
       "3     0.003571\n",
       "38    0.003562\n",
       "55    0.003449\n",
       "37    0.003418\n",
       "26    0.003236\n",
       "56    0.003190\n",
       "20    0.002654\n",
       "35    0.002634\n",
       "21    0.002552\n",
       "53    0.002372\n",
       "33    0.002079\n",
       "19    0.002053\n",
       "42    0.001610\n",
       "16    0.001241\n",
       "15    0.001167\n",
       "2     0.001067\n",
       "59    0.000920\n",
       "39    0.000905\n",
       "5     0.000569\n",
       "4     0.000475\n",
       "44    0.000126\n",
       "30    0.000068\n",
       "7     0.000000\n",
       "8     0.000000\n",
       "10    0.000000\n",
       "18    0.000000\n",
       "47    0.000000\n",
       "1     0.000000\n",
       "0     0.000000\n",
       "Name: 3P%, dtype: float64"
      ]
     },
     "execution_count": 25,
     "metadata": {},
     "output_type": "execute_result"
    }
   ],
   "source": [
    "test_df['3P%'].sort_values(ascending=False)"
   ]
  },
  {
   "cell_type": "code",
   "execution_count": 1159,
   "metadata": {},
   "outputs": [
    {
     "name": "stdout",
     "output_type": "stream",
     "text": [
      "                            OLS Regression Results                            \n",
      "==============================================================================\n",
      "Dep. Variable:                      y   R-squared:                       0.378\n",
      "Model:                            OLS   Adj. R-squared:                  0.238\n",
      "Method:                 Least Squares   F-statistic:                     2.698\n",
      "Date:                Sun, 11 Jun 2017   Prob (F-statistic):           3.68e-08\n",
      "Time:                        17:25:58   Log-Likelihood:                 288.52\n",
      "No. Observations:                 322   AIC:                            -457.0\n",
      "Df Residuals:                     262   BIC:                            -230.6\n",
      "Df Model:                          59                                         \n",
      "Covariance Type:            nonrobust                                         \n",
      "==============================================================================\n",
      "                 coef    std err          t      P>|t|      [0.025      0.975]\n",
      "------------------------------------------------------------------------------\n",
      "const         -0.1637      0.700     -0.234      0.815      -1.541       1.214\n",
      "x1            -0.0009      0.001     -1.127      0.261      -0.002       0.001\n",
      "x2             0.0001   6.85e-05      2.010      0.045    2.81e-06       0.000\n",
      "x3           -61.5604    204.891     -0.300      0.764    -465.003     341.882\n",
      "x4            75.0421    320.703      0.234      0.815    -556.441     706.526\n",
      "x5           -26.1771    111.320     -0.235      0.814    -245.373     193.019\n",
      "x6           -75.0413    320.703     -0.234      0.815    -706.525     556.442\n",
      "x7           -70.0436    267.954     -0.261      0.794    -597.662     457.575\n",
      "x8           -75.0421    320.703     -0.234      0.815    -706.526     556.441\n",
      "x9           -43.8670    157.270     -0.279      0.781    -353.541     265.807\n",
      "x10           -0.0009      0.001     -1.283      0.201      -0.002       0.000\n",
      "x11          -69.2309    233.166     -0.297      0.767    -528.348     389.886\n",
      "x12          -69.2300    233.166     -0.297      0.767    -528.347     389.887\n",
      "x13           69.2302    233.166      0.297      0.767    -389.887     528.347\n",
      "x14           -0.0007      0.000     -1.640      0.102      -0.001       0.000\n",
      "x15           -0.0004      0.001     -0.729      0.467      -0.002       0.001\n",
      "x16            0.0005      0.000      1.249      0.213      -0.000       0.001\n",
      "x17            0.0008      0.001      1.071      0.285      -0.001       0.002\n",
      "x18            0.0002      0.000      0.509      0.611      -0.001       0.001\n",
      "x19           43.8678    157.270      0.279      0.781    -265.806     353.542\n",
      "x20           -0.0002      0.000     -0.417      0.677      -0.001       0.001\n",
      "x21           -0.0493      0.092     -0.534      0.594      -0.231       0.132\n",
      "x22           -0.0891      0.094     -0.949      0.344      -0.274       0.096\n",
      "x23            0.0863      0.093      0.931      0.353      -0.096       0.269\n",
      "x24           -0.0013      0.012     -0.107      0.915      -0.026       0.023\n",
      "x25            0.0550      0.039      1.400      0.163      -0.022       0.132\n",
      "x26            0.0360      0.029      1.246      0.214      -0.021       0.093\n",
      "x27           -0.0845      0.066     -1.273      0.204      -0.215       0.046\n",
      "x28            0.0040      0.005      0.843      0.400      -0.005       0.013\n",
      "x29           -0.1152      0.058     -1.974      0.049      -0.230      -0.000\n",
      "x30            0.0099      0.016      0.618      0.537      -0.022       0.041\n",
      "x31            0.0098      0.008      1.286      0.200      -0.005       0.025\n",
      "x32            0.0097      0.010      0.956      0.340      -0.010       0.030\n",
      "x33           -0.0006      0.003     -0.206      0.837      -0.007       0.005\n",
      "x34           -0.0022      0.003     -0.645      0.519      -0.009       0.005\n",
      "x35           -0.2982      0.220     -1.357      0.176      -0.731       0.135\n",
      "x36           -0.3027      0.220     -1.375      0.170      -0.736       0.131\n",
      "x37            0.3060      0.220      1.391      0.165      -0.127       0.739\n",
      "x38          -2.9e+06   1.41e+07     -0.205      0.838   -3.07e+07    2.49e+07\n",
      "x39        -5.107e+05   2.12e+06     -0.241      0.810   -4.69e+06    3.67e+06\n",
      "x40          1.94e+06   1.33e+07      0.146      0.884   -2.42e+07    2.81e+07\n",
      "x41         5.107e+05   2.12e+06      0.241      0.810   -3.67e+06    4.69e+06\n",
      "x42         1.461e+06   1.34e+07      0.109      0.913   -2.49e+07    2.79e+07\n",
      "x43         5.107e+05   2.12e+06      0.241      0.810   -3.67e+06    4.69e+06\n",
      "x44        -4.796e+05   2.29e+06     -0.210      0.834   -4.99e+06    4.03e+06\n",
      "x45            0.0807      0.053      1.516      0.131      -0.024       0.186\n",
      "x46         1.805e+06   4.27e+06      0.422      0.673   -6.61e+06    1.02e+07\n",
      "x47         1.805e+06   4.27e+06      0.422      0.673   -6.61e+06    1.02e+07\n",
      "x48        -1.805e+06   4.27e+06     -0.422      0.673   -1.02e+07    6.61e+06\n",
      "x49           -0.0005      0.027     -0.019      0.985      -0.054       0.053\n",
      "x50            0.1875      0.090      2.094      0.037       0.011       0.364\n",
      "x51           -0.0565      0.044     -1.284      0.200      -0.143       0.030\n",
      "x52           -0.0447      0.043     -1.043      0.298      -0.129       0.040\n",
      "x53            0.0199      0.020      0.995      0.321      -0.020       0.059\n",
      "x54         4.796e+05   2.29e+06      0.210      0.834   -4.03e+06    4.99e+06\n",
      "x55            0.0361      0.024      1.514      0.131      -0.011       0.083\n",
      "x56            0.0697      0.222      0.314      0.754      -0.367       0.507\n",
      "x57           -0.8618      1.438     -0.600      0.549      -3.692       1.969\n",
      "x58           -2.5707      7.497     -0.343      0.732     -17.333      12.192\n",
      "x59            0.6980      0.683      1.022      0.308      -0.647       2.043\n",
      "x60           -0.0902      0.068     -1.324      0.187      -0.224       0.044\n",
      "x61            0.3947      0.310      1.273      0.204      -0.216       1.005\n",
      "x62           -1.1233      7.402     -0.152      0.879     -15.698      13.451\n",
      "x63            0.0023      0.005      0.475      0.635      -0.007       0.012\n",
      "==============================================================================\n",
      "Omnibus:                       82.262   Durbin-Watson:                   2.017\n",
      "Prob(Omnibus):                  0.000   Jarque-Bera (JB):              257.428\n",
      "Skew:                          -1.123   Prob(JB):                     1.26e-56\n",
      "Kurtosis:                       6.761   Cond. No.                     1.11e+16\n",
      "==============================================================================\n",
      "\n",
      "Warnings:\n",
      "[1] Standard Errors assume that the covariance matrix of the errors is correctly specified.\n",
      "[2] The smallest eigenvalue is 2.61e-23. This might indicate that there are\n",
      "strong multicollinearity problems or that the design matrix is singular.\n"
     ]
    }
   ],
   "source": [
    "X = np.array(df_cbb[df_cbb.columns[[1, 2, 3, 4, 5, 6, 7, 8, 9, 10, 11, 12, 13, 14, 15, 16, 17, 18, 19, 20, 21, 22, 23, 24, 25, 26, 27, 28, 29, 30, 31, 32, 33, 34, 35, 36, 37, 38, 39, 40, 41, 42, 43, 44, 45, 46, 47, 48, 49, 50, 51, 52, 53, 54, 55, 56, 57, 58, 59, 60, 61, 62, 63]]])\n",
    "y = np.array(df_nba['FT%'])\n",
    "model_X = sm.add_constant(X)\n",
    "model = sm.OLS(y, model_X)\n",
    "results = model.fit()\n",
    "print(results.summary())"
   ]
  },
  {
   "cell_type": "code",
   "execution_count": 973,
   "metadata": {},
   "outputs": [
    {
     "data": {
      "text/plain": [
       "'MP'"
      ]
     },
     "execution_count": 973,
     "metadata": {},
     "output_type": "execute_result"
    }
   ],
   "source": [
    "df_cbb.columns[2]"
   ]
  },
  {
   "cell_type": "code",
   "execution_count": null,
   "metadata": {
    "collapsed": true
   },
   "outputs": [],
   "source": []
  }
 ],
 "metadata": {
  "kernelspec": {
   "display_name": "Python [default]",
   "language": "python",
   "name": "python2"
  },
  "language_info": {
   "codemirror_mode": {
    "name": "ipython",
    "version": 2
   },
   "file_extension": ".py",
   "mimetype": "text/x-python",
   "name": "python",
   "nbconvert_exporter": "python",
   "pygments_lexer": "ipython2",
   "version": "2.7.13"
  }
 },
 "nbformat": 4,
 "nbformat_minor": 2
}
