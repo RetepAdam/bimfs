{
 "cells": [
  {
   "cell_type": "code",
   "execution_count": 2,
   "metadata": {},
   "outputs": [
    {
     "name": "stdout",
     "output_type": "stream",
     "text": [
      "FG%\n",
      "RF: 0.331002324825\n",
      "Linear: 0.301271730086\n",
      "OLS R2: 0.461564878761\n",
      "\n",
      "2P%\n",
      "RF: 0.234490087463\n",
      "Linear: -0.0524030590275\n",
      "OLS R2: 0.215660655293\n",
      "\n",
      "3P%\n",
      "RF: 0.251868276008\n",
      "Linear: 0.362539029147\n",
      "OLS R2: 0.349651060921\n",
      "\n",
      "FT%\n",
      "RF: 0.173869541818\n",
      "Linear: -0.112468247057\n",
      "OLS R2: 0.237034943436\n",
      "\n",
      "eFG%\n",
      "RF: 0.143307500877\n",
      "Linear: 0.102052178243\n",
      "OLS R2: 0.279358289102\n",
      "\n",
      "FG/36\n",
      "RF: 0.310713995463\n",
      "Linear: 0.315636494847\n",
      "OLS R2: 0.27582529054\n",
      "\n",
      "FGA/36\n",
      "RF: 0.250261704821\n",
      "Linear: 0.360153907338\n",
      "OLS R2: 0.310364146509\n",
      "\n",
      "2P/36\n",
      "RF: 0.404702242014\n",
      "Linear: 0.372488251806\n",
      "OLS R2: 0.42326713376\n",
      "\n",
      "2PA/36\n",
      "RF: 0.32848209916\n",
      "Linear: 0.260658676098\n",
      "OLS R2: 0.375118882183\n",
      "\n",
      "3P/36\n",
      "RF: 0.570499392693\n",
      "Linear: 0.609233095001\n",
      "OLS R2: 0.666265110472\n",
      "\n",
      "3PA/36\n",
      "RF: 0.540593236001\n",
      "Linear: 0.548663117427\n",
      "OLS R2: 0.661021266751\n",
      "\n",
      "FT/36\n",
      "RF: -0.248540786327\n",
      "Linear: -0.292280592641\n",
      "OLS R2: 0.166380256555\n",
      "\n",
      "FTA/36\n",
      "RF: -0.0862557355467\n",
      "Linear: -0.105017906081\n",
      "OLS R2: 0.220135305459\n",
      "\n",
      "ORB/36\n",
      "RF: 0.65324329811\n",
      "Linear: 0.614267470364\n",
      "OLS R2: 0.702508138322\n",
      "\n",
      "DRB/36\n",
      "RF: 0.61195244994\n",
      "Linear: 0.650972682479\n",
      "OLS R2: 0.677409522905\n",
      "\n",
      "TRB/36\n",
      "RF: 0.704125368806\n",
      "Linear: 0.738194909152\n",
      "OLS R2: 0.770250786813\n",
      "\n",
      "AST/36\n",
      "RF: 0.646250455571\n",
      "Linear: 0.627395684621\n",
      "OLS R2: 0.673976267069\n",
      "\n",
      "STL/36\n",
      "RF: 0.276704392605\n",
      "Linear: 0.0677439046654\n",
      "OLS R2: 0.40525647905\n",
      "\n",
      "BLK/36\n",
      "RF: 0.640056993721\n",
      "Linear: 0.603397791923\n",
      "OLS R2: 0.71778489302\n",
      "\n",
      "TOV/36\n",
      "RF: 0.280506018469\n",
      "Linear: 0.047958879389\n",
      "OLS R2: 0.348854640011\n",
      "\n",
      "PF/36\n",
      "RF: 0.344897763958\n",
      "Linear: 0.158769584323\n",
      "OLS R2: 0.383640324989\n",
      "\n",
      "PTS/36\n",
      "RF: 0.220222314281\n",
      "Linear: 0.252679257239\n",
      "OLS R2: 0.214701674064\n",
      "\n",
      "TS%\n",
      "RF: 0.207551275517\n",
      "Linear: 0.041475439805\n",
      "OLS R2: 0.235686527845\n",
      "\n",
      "FTr\n",
      "RF: 0.255148923744\n",
      "Linear: 0.0743561365622\n",
      "OLS R2: 0.36785770657\n",
      "\n",
      "3PAr\n",
      "RF: 0.553298237326\n",
      "Linear: 0.519841808623\n",
      "OLS R2: 0.669128922823\n",
      "\n"
     ]
    }
   ],
   "source": [
    "import pandas as pd\n",
    "import numpy as np\n",
    "from sklearn.model_selection import train_test_split\n",
    "from sklearn.ensemble import RandomForestRegressor\n",
    "import statsmodels.api as sm\n",
    "from sklearn.linear_model import LinearRegression\n",
    "\n",
    "df_nba = pd.read_csv('data/rookies_from_cbb.csv')\n",
    "df_cbb = pd.read_csv('data/cbb_to_rookies.csv')\n",
    "\n",
    "df_cbb['Age'] = df_nba['Age']\n",
    "\n",
    "df_nba = df_nba[df_nba['MP'] >= 100]\n",
    "df_cbb = df_cbb[df_cbb['Player'].isin(df_nba['Player'])]\n",
    "\n",
    "X = np.array(df_cbb[df_cbb.columns[2:]])\n",
    "cols = df_nba.columns[25:]\n",
    "rank_order = []\n",
    "for col in cols:\n",
    "    print(col)\n",
    "    y = np.array(df_nba[col])\n",
    "#\n",
    "    X_train, X_test, y_train, y_test = train_test_split(X, y, random_state=21)\n",
    "#\n",
    "    rf = RandomForestRegressor(random_state=66, max_depth=5)\n",
    "    rf.fit(X_train, y_train)\n",
    "    regr = LinearRegression()\n",
    "    regr.fit(X_train, y_train)\n",
    "    model_X = sm.add_constant(X)\n",
    "    model = sm.OLS(y, model_X)\n",
    "    results = model.fit()\n",
    "    print('RF: {0}'.format(rf.score(X_test, y_test)))\n",
    "    rank_order.append(rf.feature_importances_)\n",
    "    # ranked = df_cbb.columns[np.argsort(rf.feature_importances_)[::-1]]\n",
    "    # vals = np.sort(rf.feature_importances_)[::-1]\n",
    "    # for i in range(len(ranked)):\n",
    "    #     print(\"{0}: {1}\".format(ranked[i], round(vals[i], 2)))\n",
    "\n",
    "\n",
    "    print('Linear: {0}'.format(regr.score(X_test, y_test)))\n",
    "    print('OLS R2: {0}'.format(results.rsquared_adj))\n",
    "    print('')"
   ]
  },
  {
   "cell_type": "code",
   "execution_count": 492,
   "metadata": {},
   "outputs": [
    {
     "data": {
      "text/plain": [
       "(322, 64)"
      ]
     },
     "execution_count": 492,
     "metadata": {},
     "output_type": "execute_result"
    }
   ],
   "source": [
    "df_cbb.shape"
   ]
  },
  {
   "cell_type": "code",
   "execution_count": 3,
   "metadata": {
    "collapsed": true
   },
   "outputs": [],
   "source": [
    "test_df = pd.DataFrame(np.zeros(1612).reshape(62, 26))"
   ]
  },
  {
   "cell_type": "code",
   "execution_count": 4,
   "metadata": {
    "collapsed": true
   },
   "outputs": [],
   "source": [
    "test_df.rename(columns={0:'Labels', 1:'FG%', 2:'2P%', 3:'3P%', 4:'FT%', 5:'eFG%', 6:'FG/36', 7:'FGA/36', 8:'2P/36', 9:'2PA/36', 10:'3P/36', 11:'3PA/36', 12:'FT/36', 13:'FTA/36', 14:'ORB/36', 15:'DRB/36', 16:'TRB/36', 17:'AST/36', 18:'STL/36', 19:'BLK/36', 20:'TOV/36', 21:'PF/36', 22:'PTS/36', 23:'TS%', 24:'FTr', 25:'3PAr'}, inplace=True)"
   ]
  },
  {
   "cell_type": "code",
   "execution_count": 5,
   "metadata": {
    "collapsed": true
   },
   "outputs": [],
   "source": [
    "test_df['Labels'] = df_cbb.columns[2:]"
   ]
  },
  {
   "cell_type": "code",
   "execution_count": 6,
   "metadata": {
    "collapsed": true
   },
   "outputs": [],
   "source": [
    "for i in range(len(rank_order)):\n",
    "    test_df[test_df.columns[i+1]] = rank_order[i]"
   ]
  },
  {
   "cell_type": "code",
   "execution_count": 32,
   "metadata": {},
   "outputs": [
    {
     "data": {
      "text/plain": [
       "0         MP\n",
       "1         FG\n",
       "2        FGA\n",
       "3         2P\n",
       "4        2PA\n",
       "5         3P\n",
       "6        3PA\n",
       "7         FT\n",
       "8        FTA\n",
       "9        ORB\n",
       "10       DRB\n",
       "11       TRB\n",
       "12       AST\n",
       "13       STL\n",
       "14       BLK\n",
       "15       TOV\n",
       "16        PF\n",
       "17       PTS\n",
       "18     PProd\n",
       "19       OWS\n",
       "20       DWS\n",
       "21        WS\n",
       "22       PER\n",
       "23      ORB%\n",
       "24      DRB%\n",
       "25      TRB%\n",
       "26      AST%\n",
       "27      STL%\n",
       "28      BLK%\n",
       "29      TOV%\n",
       "       ...  \n",
       "32      DRtg\n",
       "33      OBPM\n",
       "34      DBPM\n",
       "35       BPM\n",
       "36     FG/40\n",
       "37    FGA/40\n",
       "38     2P/40\n",
       "39    2PA/40\n",
       "40     3P/40\n",
       "41    3PA/40\n",
       "42     FT/40\n",
       "43    FTA/40\n",
       "44    ORB/40\n",
       "45    DRB/40\n",
       "46    TRB/40\n",
       "47    AST/40\n",
       "48    STL/40\n",
       "49    BLK/40\n",
       "50    TOV/40\n",
       "51     PF/40\n",
       "52    PTS/40\n",
       "53       TS%\n",
       "54       FTr\n",
       "55      3PAr\n",
       "56       FG%\n",
       "57       2P%\n",
       "58       3P%\n",
       "59       FT%\n",
       "60      eFG%\n",
       "61       Age\n",
       "Name: Labels, dtype: object"
      ]
     },
     "execution_count": 32,
     "metadata": {},
     "output_type": "execute_result"
    }
   ],
   "source": [
    "test_df['Labels']"
   ]
  },
  {
   "cell_type": "code",
   "execution_count": 15,
   "metadata": {},
   "outputs": [
    {
     "data": {
      "image/png": "[encoded data removed]",
      "text/plain": [
       "<matplotlib.figure.Figure at 0x1191d1c50>"
      ]
     },
     "metadata": {},
     "output_type": "display_data"
    }
   ],
   "source": [
    "import matplotlib.pyplot as plt\n",
    "fig = plt.figure()\n",
    "ax = fig.add_subplot(111)\n",
    "\n",
    "plt.bar(test_df.index, test_df[test_df.columns[1]]) #FG%\n",
    "plt.show()\n",
    "plt.close()"
   ]
  },
  {
   "cell_type": "code",
   "execution_count": 21,
   "metadata": {},
   "outputs": [
    {
     "data": {
      "image/png": "[encoded data removed]",
      "text/plain": [
       "<matplotlib.figure.Figure at 0x11982b610>"
      ]
     },
     "metadata": {},
     "output_type": "display_data"
    }
   ],
   "source": [
    "import matplotlib.pyplot as plt\n",
    "fig = plt.figure()\n",
    "ax = fig.add_subplot(111)\n",
    "\n",
    "plt.bar(test_df.index, test_df[test_df.columns[2]]) #2P%\n",
    "plt.show()\n",
    "plt.close()"
   ]
  },
  {
   "cell_type": "code",
   "execution_count": 22,
   "metadata": {},
   "outputs": [
    {
     "data": {
      "image/png": "[encoded data removed]",
      "text/plain": [
       "<matplotlib.figure.Figure at 0x1199bd890>"
      ]
     },
     "metadata": {},
     "output_type": "display_data"
    }
   ],
   "source": [
    "import matplotlib.pyplot as plt\n",
    "fig = plt.figure()\n",
    "ax = fig.add_subplot(111)\n",
    "\n",
    "plt.bar(test_df.index, test_df[test_df.columns[3]]) #3P%\n",
    "plt.show()\n",
    "plt.close()"
   ]
  },
  {
   "cell_type": "code",
   "execution_count": 25,
   "metadata": {},
   "outputs": [
    {
     "data": {
      "text/plain": [
       "40    0.273422\n",
       "41    0.150142\n",
       "46    0.105057\n",
       "9     0.039902\n",
       "32    0.035289\n",
       "45    0.033411\n",
       "49    0.026453\n",
       "43    0.019330\n",
       "14    0.019324\n",
       "25    0.019262\n",
       "31    0.018918\n",
       "6     0.018912\n",
       "13    0.017519\n",
       "12    0.015566\n",
       "24    0.014876\n",
       "23    0.013665\n",
       "29    0.012360\n",
       "28    0.011395\n",
       "17    0.010959\n",
       "51    0.010582\n",
       "52    0.010127\n",
       "22    0.009680\n",
       "54    0.008848\n",
       "50    0.008577\n",
       "36    0.008546\n",
       "57    0.006603\n",
       "61    0.006471\n",
       "60    0.006178\n",
       "11    0.006141\n",
       "34    0.005373\n",
       "        ...   \n",
       "58    0.004268\n",
       "3     0.003571\n",
       "38    0.003562\n",
       "55    0.003449\n",
       "37    0.003418\n",
       "26    0.003236\n",
       "56    0.003190\n",
       "20    0.002654\n",
       "35    0.002634\n",
       "21    0.002552\n",
       "53    0.002372\n",
       "33    0.002079\n",
       "19    0.002053\n",
       "42    0.001610\n",
       "16    0.001241\n",
       "15    0.001167\n",
       "2     0.001067\n",
       "59    0.000920\n",
       "39    0.000905\n",
       "5     0.000569\n",
       "4     0.000475\n",
       "44    0.000126\n",
       "30    0.000068\n",
       "7     0.000000\n",
       "8     0.000000\n",
       "10    0.000000\n",
       "18    0.000000\n",
       "47    0.000000\n",
       "1     0.000000\n",
       "0     0.000000\n",
       "Name: 3P%, dtype: float64"
      ]
     },
     "execution_count": 25,
     "metadata": {},
     "output_type": "execute_result"
    }
   ],
   "source": [
    "test_df['3P%'].sort_values(ascending=False)"
   ]
  },
  {
   "cell_type": "code",
   "execution_count": 122,
   "metadata": {},
   "outputs": [
    {
     "name": "stdout",
     "output_type": "stream",
     "text": [
      "                            OLS Regression Results                            \n",
      "==============================================================================\n",
      "Dep. Variable:                      y   R-squared:                       0.716\n",
      "Model:                            OLS   Adj. R-squared:                  0.691\n",
      "Method:                 Least Squares   F-statistic:                     28.58\n",
      "Date:                Sun, 11 Jun 2017   Prob (F-statistic):           1.77e-65\n",
      "Time:                        17:40:55   Log-Likelihood:                 283.57\n",
      "No. Observations:                 322   AIC:                            -513.1\n",
      "Df Residuals:                     295   BIC:                            -411.2\n",
      "Df Model:                          26                                         \n",
      "Covariance Type:            nonrobust                                         \n",
      "==============================================================================\n",
      "                 coef    std err          t      P>|t|      [0.025      0.975]\n",
      "------------------------------------------------------------------------------\n",
      "const         -0.3365      0.126     -2.675      0.008      -0.584      -0.089\n",
      "x1             0.0004      0.000      1.220      0.223      -0.000       0.001\n",
      "x2             0.0016      0.001      2.100      0.037    9.84e-05       0.003\n",
      "x3             0.0011      0.000      2.595      0.010       0.000       0.002\n",
      "x4            -0.0008      0.000     -2.626      0.009      -0.001      -0.000\n",
      "x5            -0.0002      0.000     -1.385      0.167      -0.000    8.45e-05\n",
      "x6            -0.0006      0.000     -2.434      0.016      -0.001      -0.000\n",
      "x7             0.0016      0.001      2.975      0.003       0.001       0.003\n",
      "x8            -0.0004      0.000     -1.312      0.190      -0.001       0.000\n",
      "x9            -0.0150      0.014     -1.090      0.277      -0.042       0.012\n",
      "x10            0.0160      0.010      1.650      0.100      -0.003       0.035\n",
      "x11           -0.0261      0.019     -1.364      0.174      -0.064       0.012\n",
      "x12           -0.0393      0.020     -1.973      0.049      -0.079   -9.23e-05\n",
      "x13            0.0702      0.041      1.730      0.085      -0.010       0.150\n",
      "x14            0.0154      0.013      1.198      0.232      -0.010       0.041\n",
      "x15           -0.0075      0.002     -4.617      0.000      -0.011      -0.004\n",
      "x16            0.0080      0.002      4.401      0.000       0.004       0.012\n",
      "x17            0.0134      0.004      3.485      0.001       0.006       0.021\n",
      "x18            0.0713      0.025      2.894      0.004       0.023       0.120\n",
      "x19           -0.0231      0.012     -1.965      0.050      -0.046    4.14e-05\n",
      "x20            0.0295      0.013      2.307      0.022       0.004       0.055\n",
      "x21            0.0450      0.013      3.405      0.001       0.019       0.071\n",
      "x22           -0.0755      0.033     -2.283      0.023      -0.141      -0.010\n",
      "x23           -0.1244      0.025     -4.948      0.000      -0.174      -0.075\n",
      "x24            0.0188      0.009      2.118      0.035       0.001       0.036\n",
      "x25            0.3485      0.101      3.467      0.001       0.151       0.546\n",
      "x26            1.0075      0.149      6.775      0.000       0.715       1.300\n",
      "==============================================================================\n",
      "Omnibus:                        4.243   Durbin-Watson:                   1.934\n",
      "Prob(Omnibus):                  0.120   Jarque-Bera (JB):                3.946\n",
      "Skew:                           0.240   Prob(JB):                        0.139\n",
      "Kurtosis:                       3.253   Cond. No.                     4.24e+04\n",
      "==============================================================================\n",
      "\n",
      "Warnings:\n",
      "[1] Standard Errors assume that the covariance matrix of the errors is correctly specified.\n",
      "[2] The condition number is large, 4.24e+04. This might indicate that there are\n",
      "strong multicollinearity or other numerical problems.\n"
     ]
    }
   ],
   "source": [
    "X = np.array(df_cbb[df_cbb.columns[[6, 7, 9, 10, 13, 14, 17, 19, 23, 25, 26, 27, 30, 33, 34, 36, 38, 39, 48, 49, 51, 52, 53, 56, 57]]])\n",
    "y = np.array(df_nba['3PAr'])\n",
    "model_X = sm.add_constant(X)\n",
    "model = sm.OLS(y, model_X)\n",
    "results = model.fit()\n",
    "print(results.summary())"
   ]
  },
  {
   "cell_type": "code",
   "execution_count": 125,
   "metadata": {},
   "outputs": [
    {
     "data": {
      "text/plain": [
       "Index([u'FTr', u'3PAr'], dtype='object')"
      ]
     },
     "execution_count": 125,
     "metadata": {},
     "output_type": "execute_result"
    }
   ],
   "source": [
    "df_nba.columns[-2:]"
   ]
  },
  {
   "cell_type": "code",
   "execution_count": null,
   "metadata": {
    "collapsed": true
   },
   "outputs": [],
   "source": []
  }
 ],
 "metadata": {
  "kernelspec": {
   "display_name": "Python [default]",
   "language": "python",
   "name": "python2"
  },
  "language_info": {
   "codemirror_mode": {
    "name": "ipython",
    "version": 2
   },
   "file_extension": ".py",
   "mimetype": "text/x-python",
   "name": "python",
   "nbconvert_exporter": "python",
   "pygments_lexer": "ipython2",
   "version": "2.7.13"
  }
 },
 "nbformat": 4,
 "nbformat_minor": 2
}
